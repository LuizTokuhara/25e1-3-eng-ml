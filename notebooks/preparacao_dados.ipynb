{
 "cells": [
  {
   "cell_type": "code",
   "execution_count": 1,
   "id": "d6a0db81-7966-4586-b830-4e9bdc411868",
   "metadata": {},
   "outputs": [
    {
     "data": {
      "text/html": [
       "<pre style=\"white-space:pre;overflow-x:auto;line-height:normal;font-family:Menlo,'DejaVu Sans Mono',consolas,'Courier New',monospace\"><span style=\"color: #7fbfbf; text-decoration-color: #7fbfbf\">[04/02/25 11:43:32] </span><span style=\"color: #000080; text-decoration-color: #000080\">INFO    </span> Loading data from <span style=\"color: #ff8700; text-decoration-color: #ff8700\">download_data_dev</span> <span style=\"font-weight: bold\">(</span>ParquetDataset<span style=\"font-weight: bold\">)</span><span style=\"color: #808000; text-decoration-color: #808000\">...</span>            <a href=\"file:///opt/miniconda3/envs/kedro-infnet-env/lib/python3.10/site-packages/kedro/io/data_catalog.py\" target=\"_blank\"><span style=\"color: #7f7f7f; text-decoration-color: #7f7f7f\">data_catalog.py</span></a><span style=\"color: #7f7f7f; text-decoration-color: #7f7f7f\">:</span><a href=\"file:///opt/miniconda3/envs/kedro-infnet-env/lib/python3.10/site-packages/kedro/io/data_catalog.py#401\" target=\"_blank\"><span style=\"color: #7f7f7f; text-decoration-color: #7f7f7f\">401</span></a>\n",
       "</pre>\n"
      ],
      "text/plain": [
       "\u001b[2;36m[04/02/25 11:43:32]\u001b[0m\u001b[2;36m \u001b[0m\u001b[34mINFO    \u001b[0m Loading data from \u001b[38;5;208mdownload_data_dev\u001b[0m \u001b[1m(\u001b[0mParquetDataset\u001b[1m)\u001b[0m\u001b[33m...\u001b[0m            \u001b]8;id=182107;file:///opt/miniconda3/envs/kedro-infnet-env/lib/python3.10/site-packages/kedro/io/data_catalog.py\u001b\\\u001b[2mdata_catalog.py\u001b[0m\u001b]8;;\u001b\\\u001b[2m:\u001b[0m\u001b]8;id=81286;file:///opt/miniconda3/envs/kedro-infnet-env/lib/python3.10/site-packages/kedro/io/data_catalog.py#401\u001b\\\u001b[2m401\u001b[0m\u001b]8;;\u001b\\\n"
      ]
     },
     "metadata": {},
     "output_type": "display_data"
    },
    {
     "data": {
      "text/html": [
       "<pre style=\"white-space:pre;overflow-x:auto;line-height:normal;font-family:Menlo,'DejaVu Sans Mono',consolas,'Courier New',monospace\"></pre>\n"
      ],
      "text/plain": []
     },
     "metadata": {},
     "output_type": "display_data"
    },
    {
     "data": {
      "text/html": [
       "<div>\n",
       "<style scoped>\n",
       "    .dataframe tbody tr th:only-of-type {\n",
       "        vertical-align: middle;\n",
       "    }\n",
       "\n",
       "    .dataframe tbody tr th {\n",
       "        vertical-align: top;\n",
       "    }\n",
       "\n",
       "    .dataframe thead th {\n",
       "        text-align: right;\n",
       "    }\n",
       "</style>\n",
       "<table border=\"1\" class=\"dataframe\">\n",
       "  <thead>\n",
       "    <tr style=\"text-align: right;\">\n",
       "      <th></th>\n",
       "      <th>action_type</th>\n",
       "      <th>combined_shot_type</th>\n",
       "      <th>game_event_id</th>\n",
       "      <th>game_id</th>\n",
       "      <th>lat</th>\n",
       "      <th>loc_x</th>\n",
       "      <th>loc_y</th>\n",
       "      <th>lon</th>\n",
       "      <th>minutes_remaining</th>\n",
       "      <th>period</th>\n",
       "      <th>...</th>\n",
       "      <th>shot_type</th>\n",
       "      <th>shot_zone_area</th>\n",
       "      <th>shot_zone_basic</th>\n",
       "      <th>shot_zone_range</th>\n",
       "      <th>team_id</th>\n",
       "      <th>team_name</th>\n",
       "      <th>game_date</th>\n",
       "      <th>matchup</th>\n",
       "      <th>opponent</th>\n",
       "      <th>shot_id</th>\n",
       "    </tr>\n",
       "  </thead>\n",
       "  <tbody>\n",
       "    <tr>\n",
       "      <th>0</th>\n",
       "      <td>Jump Shot</td>\n",
       "      <td>Jump Shot</td>\n",
       "      <td>10</td>\n",
       "      <td>20000012</td>\n",
       "      <td>33.9723</td>\n",
       "      <td>167</td>\n",
       "      <td>72</td>\n",
       "      <td>-118.1028</td>\n",
       "      <td>10</td>\n",
       "      <td>1</td>\n",
       "      <td>...</td>\n",
       "      <td>2PT Field Goal</td>\n",
       "      <td>Right Side(R)</td>\n",
       "      <td>Mid-Range</td>\n",
       "      <td>16-24 ft.</td>\n",
       "      <td>1610612747</td>\n",
       "      <td>Los Angeles Lakers</td>\n",
       "      <td>2000-10-31</td>\n",
       "      <td>LAL @ POR</td>\n",
       "      <td>POR</td>\n",
       "      <td>1</td>\n",
       "    </tr>\n",
       "    <tr>\n",
       "      <th>1</th>\n",
       "      <td>Jump Shot</td>\n",
       "      <td>Jump Shot</td>\n",
       "      <td>12</td>\n",
       "      <td>20000012</td>\n",
       "      <td>34.0443</td>\n",
       "      <td>-157</td>\n",
       "      <td>0</td>\n",
       "      <td>-118.4268</td>\n",
       "      <td>10</td>\n",
       "      <td>1</td>\n",
       "      <td>...</td>\n",
       "      <td>2PT Field Goal</td>\n",
       "      <td>Left Side(L)</td>\n",
       "      <td>Mid-Range</td>\n",
       "      <td>8-16 ft.</td>\n",
       "      <td>1610612747</td>\n",
       "      <td>Los Angeles Lakers</td>\n",
       "      <td>2000-10-31</td>\n",
       "      <td>LAL @ POR</td>\n",
       "      <td>POR</td>\n",
       "      <td>2</td>\n",
       "    </tr>\n",
       "    <tr>\n",
       "      <th>2</th>\n",
       "      <td>Jump Shot</td>\n",
       "      <td>Jump Shot</td>\n",
       "      <td>35</td>\n",
       "      <td>20000012</td>\n",
       "      <td>33.9093</td>\n",
       "      <td>-101</td>\n",
       "      <td>135</td>\n",
       "      <td>-118.3708</td>\n",
       "      <td>7</td>\n",
       "      <td>1</td>\n",
       "      <td>...</td>\n",
       "      <td>2PT Field Goal</td>\n",
       "      <td>Left Side Center(LC)</td>\n",
       "      <td>Mid-Range</td>\n",
       "      <td>16-24 ft.</td>\n",
       "      <td>1610612747</td>\n",
       "      <td>Los Angeles Lakers</td>\n",
       "      <td>2000-10-31</td>\n",
       "      <td>LAL @ POR</td>\n",
       "      <td>POR</td>\n",
       "      <td>3</td>\n",
       "    </tr>\n",
       "    <tr>\n",
       "      <th>3</th>\n",
       "      <td>Jump Shot</td>\n",
       "      <td>Jump Shot</td>\n",
       "      <td>43</td>\n",
       "      <td>20000012</td>\n",
       "      <td>33.8693</td>\n",
       "      <td>138</td>\n",
       "      <td>175</td>\n",
       "      <td>-118.1318</td>\n",
       "      <td>6</td>\n",
       "      <td>1</td>\n",
       "      <td>...</td>\n",
       "      <td>2PT Field Goal</td>\n",
       "      <td>Right Side Center(RC)</td>\n",
       "      <td>Mid-Range</td>\n",
       "      <td>16-24 ft.</td>\n",
       "      <td>1610612747</td>\n",
       "      <td>Los Angeles Lakers</td>\n",
       "      <td>2000-10-31</td>\n",
       "      <td>LAL @ POR</td>\n",
       "      <td>POR</td>\n",
       "      <td>4</td>\n",
       "    </tr>\n",
       "    <tr>\n",
       "      <th>4</th>\n",
       "      <td>Driving Dunk Shot</td>\n",
       "      <td>Dunk</td>\n",
       "      <td>155</td>\n",
       "      <td>20000012</td>\n",
       "      <td>34.0443</td>\n",
       "      <td>0</td>\n",
       "      <td>0</td>\n",
       "      <td>-118.2698</td>\n",
       "      <td>6</td>\n",
       "      <td>2</td>\n",
       "      <td>...</td>\n",
       "      <td>2PT Field Goal</td>\n",
       "      <td>Center(C)</td>\n",
       "      <td>Restricted Area</td>\n",
       "      <td>Less Than 8 ft.</td>\n",
       "      <td>1610612747</td>\n",
       "      <td>Los Angeles Lakers</td>\n",
       "      <td>2000-10-31</td>\n",
       "      <td>LAL @ POR</td>\n",
       "      <td>POR</td>\n",
       "      <td>5</td>\n",
       "    </tr>\n",
       "  </tbody>\n",
       "</table>\n",
       "<p>5 rows × 25 columns</p>\n",
       "</div>"
      ],
      "text/plain": [
       "\n",
       "         action_type combined_shot_type  game_event_id   game_id      lat  \\\n",
       "\u001b[1;36m0\u001b[0m          Jump Shot          Jump Shot             \u001b[1;36m10\u001b[0m  \u001b[1;36m20000012\u001b[0m  \u001b[1;36m33.9723\u001b[0m   \n",
       "\u001b[1;36m1\u001b[0m          Jump Shot          Jump Shot             \u001b[1;36m12\u001b[0m  \u001b[1;36m20000012\u001b[0m  \u001b[1;36m34.0443\u001b[0m   \n",
       "\u001b[1;36m2\u001b[0m          Jump Shot          Jump Shot             \u001b[1;36m35\u001b[0m  \u001b[1;36m20000012\u001b[0m  \u001b[1;36m33.9093\u001b[0m   \n",
       "\u001b[1;36m3\u001b[0m          Jump Shot          Jump Shot             \u001b[1;36m43\u001b[0m  \u001b[1;36m20000012\u001b[0m  \u001b[1;36m33.8693\u001b[0m   \n",
       "\u001b[1;36m4\u001b[0m  Driving Dunk Shot               Dunk            \u001b[1;36m155\u001b[0m  \u001b[1;36m20000012\u001b[0m  \u001b[1;36m34.0443\u001b[0m   \n",
       "\n",
       "   loc_x  loc_y       lon  minutes_remaining  period  \u001b[33m...\u001b[0m       shot_type  \\\n",
       "\u001b[1;36m0\u001b[0m    \u001b[1;36m167\u001b[0m     \u001b[1;36m72\u001b[0m \u001b[1;36m-118.1028\u001b[0m                 \u001b[1;36m10\u001b[0m       \u001b[1;36m1\u001b[0m  \u001b[33m...\u001b[0m  2PT Field Goal   \n",
       "\u001b[1;36m1\u001b[0m   \u001b[1;36m-157\u001b[0m      \u001b[1;36m0\u001b[0m \u001b[1;36m-118.4268\u001b[0m                 \u001b[1;36m10\u001b[0m       \u001b[1;36m1\u001b[0m  \u001b[33m...\u001b[0m  2PT Field Goal   \n",
       "\u001b[1;36m2\u001b[0m   \u001b[1;36m-101\u001b[0m    \u001b[1;36m135\u001b[0m \u001b[1;36m-118.3708\u001b[0m                  \u001b[1;36m7\u001b[0m       \u001b[1;36m1\u001b[0m  \u001b[33m...\u001b[0m  2PT Field Goal   \n",
       "\u001b[1;36m3\u001b[0m    \u001b[1;36m138\u001b[0m    \u001b[1;36m175\u001b[0m \u001b[1;36m-118.1318\u001b[0m                  \u001b[1;36m6\u001b[0m       \u001b[1;36m1\u001b[0m  \u001b[33m...\u001b[0m  2PT Field Goal   \n",
       "\u001b[1;36m4\u001b[0m      \u001b[1;36m0\u001b[0m      \u001b[1;36m0\u001b[0m \u001b[1;36m-118.2698\u001b[0m                  \u001b[1;36m6\u001b[0m       \u001b[1;36m2\u001b[0m  \u001b[33m...\u001b[0m  2PT Field Goal   \n",
       "\n",
       "          shot_zone_area  shot_zone_basic  shot_zone_range     team_id  \\\n",
       "\u001b[1;36m0\u001b[0m          Right \u001b[1;35mSide\u001b[0m\u001b[1m(\u001b[0mR\u001b[1m)\u001b[0m        Mid-Range        \u001b[1;36m16\u001b[0m-\u001b[1;36m24\u001b[0m ft.  \u001b[1;36m1610612747\u001b[0m   \n",
       "\u001b[1;36m1\u001b[0m           Left \u001b[1;35mSide\u001b[0m\u001b[1m(\u001b[0mL\u001b[1m)\u001b[0m        Mid-Range         \u001b[1;36m8\u001b[0m-\u001b[1;36m16\u001b[0m ft.  \u001b[1;36m1610612747\u001b[0m   \n",
       "\u001b[1;36m2\u001b[0m   Left Side \u001b[1;35mCenter\u001b[0m\u001b[1m(\u001b[0mLC\u001b[1m)\u001b[0m        Mid-Range        \u001b[1;36m16\u001b[0m-\u001b[1;36m24\u001b[0m ft.  \u001b[1;36m1610612747\u001b[0m   \n",
       "\u001b[1;36m3\u001b[0m  Right Side \u001b[1;35mCenter\u001b[0m\u001b[1m(\u001b[0mRC\u001b[1m)\u001b[0m        Mid-Range        \u001b[1;36m16\u001b[0m-\u001b[1;36m24\u001b[0m ft.  \u001b[1;36m1610612747\u001b[0m   \n",
       "\u001b[1;36m4\u001b[0m              \u001b[1;35mCenter\u001b[0m\u001b[1m(\u001b[0mC\u001b[1m)\u001b[0m  Restricted Area  Less Than \u001b[1;36m8\u001b[0m ft.  \u001b[1;36m1610612747\u001b[0m   \n",
       "\n",
       "            team_name   game_date    matchup opponent  shot_id  \n",
       "\u001b[1;36m0\u001b[0m  Los Angeles Lakers  \u001b[1;36m2000\u001b[0m-\u001b[1;36m10\u001b[0m-\u001b[1;36m31\u001b[0m  LAL @ POR      POR        \u001b[1;36m1\u001b[0m  \n",
       "\u001b[1;36m1\u001b[0m  Los Angeles Lakers  \u001b[1;36m2000\u001b[0m-\u001b[1;36m10\u001b[0m-\u001b[1;36m31\u001b[0m  LAL @ POR      POR        \u001b[1;36m2\u001b[0m  \n",
       "\u001b[1;36m2\u001b[0m  Los Angeles Lakers  \u001b[1;36m2000\u001b[0m-\u001b[1;36m10\u001b[0m-\u001b[1;36m31\u001b[0m  LAL @ POR      POR        \u001b[1;36m3\u001b[0m  \n",
       "\u001b[1;36m3\u001b[0m  Los Angeles Lakers  \u001b[1;36m2000\u001b[0m-\u001b[1;36m10\u001b[0m-\u001b[1;36m31\u001b[0m  LAL @ POR      POR        \u001b[1;36m4\u001b[0m  \n",
       "\u001b[1;36m4\u001b[0m  Los Angeles Lakers  \u001b[1;36m2000\u001b[0m-\u001b[1;36m10\u001b[0m-\u001b[1;36m31\u001b[0m  LAL @ POR      POR        \u001b[1;36m5\u001b[0m  \n",
       "\n",
       "\u001b[1m[\u001b[0m\u001b[1;36m5\u001b[0m rows x \u001b[1;36m25\u001b[0m columns\u001b[1m]\u001b[0m"
      ]
     },
     "execution_count": 1,
     "metadata": {},
     "output_type": "execute_result"
    }
   ],
   "source": [
    "df = catalog.load('download_data_dev')\n",
    "df.head()"
   ]
  },
  {
   "cell_type": "code",
   "execution_count": 2,
   "id": "8677718e-9ef9-4a7c-a666-e59a0bab0e40",
   "metadata": {},
   "outputs": [
    {
     "name": "stdout",
     "output_type": "stream",
     "text": [
      "<class 'pandas.core.frame.DataFrame'>\n",
      "Int64Index: 24271 entries, 0 to 30696\n",
      "Data columns (total 25 columns):\n",
      " #   Column              Non-Null Count  Dtype  \n",
      "---  ------              --------------  -----  \n",
      " 0   action_type         24271 non-null  object \n",
      " 1   combined_shot_type  24271 non-null  object \n",
      " 2   game_event_id       24271 non-null  int64  \n",
      " 3   game_id             24271 non-null  int64  \n",
      " 4   lat                 24271 non-null  float64\n",
      " 5   loc_x               24271 non-null  int64  \n",
      " 6   loc_y               24271 non-null  int64  \n",
      " 7   lon                 24271 non-null  float64\n",
      " 8   minutes_remaining   24271 non-null  int64  \n",
      " 9   period              24271 non-null  int64  \n",
      " 10  playoffs            24271 non-null  int64  \n",
      " 11  season              24271 non-null  object \n",
      " 12  seconds_remaining   24271 non-null  int64  \n",
      " 13  shot_distance       24271 non-null  int64  \n",
      " 14  shot_made_flag      20285 non-null  float64\n",
      " 15  shot_type           24271 non-null  object \n",
      " 16  shot_zone_area      24271 non-null  object \n",
      " 17  shot_zone_basic     24271 non-null  object \n",
      " 18  shot_zone_range     24271 non-null  object \n",
      " 19  team_id             24271 non-null  int64  \n",
      " 20  team_name           24271 non-null  object \n",
      " 21  game_date           24271 non-null  object \n",
      " 22  matchup             24271 non-null  object \n",
      " 23  opponent            24271 non-null  object \n",
      " 24  shot_id             24271 non-null  int64  \n",
      "dtypes: float64(3), int64(11), object(11)\n",
      "memory usage: 4.8+ MB\n"
     ]
    }
   ],
   "source": [
    "df.info()"
   ]
  },
  {
   "cell_type": "code",
   "execution_count": 3,
   "id": "fd998171-f0d2-4778-804f-e95956e0f00a",
   "metadata": {},
   "outputs": [
    {
     "data": {
      "text/html": [
       "<pre style=\"white-space:pre;overflow-x:auto;line-height:normal;font-family:Menlo,'DejaVu Sans Mono',consolas,'Courier New',monospace\"></pre>\n"
      ],
      "text/plain": []
     },
     "metadata": {},
     "output_type": "display_data"
    },
    {
     "data": {
      "text/plain": [
       "\n",
       "action_type              \u001b[1;36m0\u001b[0m\n",
       "combined_shot_type       \u001b[1;36m0\u001b[0m\n",
       "game_event_id            \u001b[1;36m0\u001b[0m\n",
       "game_id                  \u001b[1;36m0\u001b[0m\n",
       "lat                      \u001b[1;36m0\u001b[0m\n",
       "loc_x                    \u001b[1;36m0\u001b[0m\n",
       "loc_y                    \u001b[1;36m0\u001b[0m\n",
       "lon                      \u001b[1;36m0\u001b[0m\n",
       "minutes_remaining        \u001b[1;36m0\u001b[0m\n",
       "period                   \u001b[1;36m0\u001b[0m\n",
       "playoffs                 \u001b[1;36m0\u001b[0m\n",
       "season                   \u001b[1;36m0\u001b[0m\n",
       "seconds_remaining        \u001b[1;36m0\u001b[0m\n",
       "shot_distance            \u001b[1;36m0\u001b[0m\n",
       "shot_made_flag        \u001b[1;36m3986\u001b[0m\n",
       "shot_type                \u001b[1;36m0\u001b[0m\n",
       "shot_zone_area           \u001b[1;36m0\u001b[0m\n",
       "shot_zone_basic          \u001b[1;36m0\u001b[0m\n",
       "shot_zone_range          \u001b[1;36m0\u001b[0m\n",
       "team_id                  \u001b[1;36m0\u001b[0m\n",
       "team_name                \u001b[1;36m0\u001b[0m\n",
       "game_date                \u001b[1;36m0\u001b[0m\n",
       "matchup                  \u001b[1;36m0\u001b[0m\n",
       "opponent                 \u001b[1;36m0\u001b[0m\n",
       "shot_id                  \u001b[1;36m0\u001b[0m\n",
       "dtype: int64"
      ]
     },
     "execution_count": 3,
     "metadata": {},
     "output_type": "execute_result"
    }
   ],
   "source": [
    "df.isnull().sum()"
   ]
  },
  {
   "cell_type": "code",
   "execution_count": 4,
   "id": "f91890e0-976f-46e2-8cd9-e427d8b7f18f",
   "metadata": {},
   "outputs": [
    {
     "data": {
      "text/html": [
       "<pre style=\"white-space:pre;overflow-x:auto;line-height:normal;font-family:Menlo,'DejaVu Sans Mono',consolas,'Courier New',monospace\"></pre>\n"
      ],
      "text/plain": []
     },
     "metadata": {},
     "output_type": "display_data"
    },
    {
     "data": {
      "text/plain": [
       "\n",
       "action_type           \u001b[1;36m0\u001b[0m\n",
       "combined_shot_type    \u001b[1;36m0\u001b[0m\n",
       "game_event_id         \u001b[1;36m0\u001b[0m\n",
       "game_id               \u001b[1;36m0\u001b[0m\n",
       "lat                   \u001b[1;36m0\u001b[0m\n",
       "loc_x                 \u001b[1;36m0\u001b[0m\n",
       "loc_y                 \u001b[1;36m0\u001b[0m\n",
       "lon                   \u001b[1;36m0\u001b[0m\n",
       "minutes_remaining     \u001b[1;36m0\u001b[0m\n",
       "period                \u001b[1;36m0\u001b[0m\n",
       "playoffs              \u001b[1;36m0\u001b[0m\n",
       "season                \u001b[1;36m0\u001b[0m\n",
       "seconds_remaining     \u001b[1;36m0\u001b[0m\n",
       "shot_distance         \u001b[1;36m0\u001b[0m\n",
       "shot_made_flag        \u001b[1;36m0\u001b[0m\n",
       "shot_type             \u001b[1;36m0\u001b[0m\n",
       "shot_zone_area        \u001b[1;36m0\u001b[0m\n",
       "shot_zone_basic       \u001b[1;36m0\u001b[0m\n",
       "shot_zone_range       \u001b[1;36m0\u001b[0m\n",
       "team_id               \u001b[1;36m0\u001b[0m\n",
       "team_name             \u001b[1;36m0\u001b[0m\n",
       "game_date             \u001b[1;36m0\u001b[0m\n",
       "matchup               \u001b[1;36m0\u001b[0m\n",
       "opponent              \u001b[1;36m0\u001b[0m\n",
       "shot_id               \u001b[1;36m0\u001b[0m\n",
       "dtype: int64"
      ]
     },
     "execution_count": 4,
     "metadata": {},
     "output_type": "execute_result"
    }
   ],
   "source": [
    "df = df.dropna()\n",
    "df.isnull().sum()"
   ]
  },
  {
   "cell_type": "code",
   "execution_count": 6,
   "id": "e10511a6-ac16-4e0f-872f-6c6606d4691f",
   "metadata": {},
   "outputs": [
    {
     "data": {
      "text/html": [
       "<pre style=\"white-space:pre;overflow-x:auto;line-height:normal;font-family:Menlo,'DejaVu Sans Mono',consolas,'Courier New',monospace\"></pre>\n"
      ],
      "text/plain": []
     },
     "metadata": {},
     "output_type": "display_data"
    },
    {
     "data": {
      "text/plain": [
       "\u001b[1m(\u001b[0m\u001b[1;36m20285\u001b[0m, \u001b[1;36m7\u001b[0m\u001b[1m)\u001b[0m"
      ]
     },
     "execution_count": 6,
     "metadata": {},
     "output_type": "execute_result"
    }
   ],
   "source": [
    "features = df[['lat', 'lon', 'minutes_remaining', 'period', 'playoffs', 'shot_distance', 'shot_made_flag']]\n",
    "features.shape"
   ]
  }
 ],
 "metadata": {
  "kernelspec": {
   "display_name": "Kedro (kobe_bryant)",
   "language": "python",
   "name": "kedro_kobe_bryant"
  },
  "language_info": {
   "codemirror_mode": {
    "name": "ipython",
    "version": 3
   },
   "file_extension": ".py",
   "mimetype": "text/x-python",
   "name": "python",
   "nbconvert_exporter": "python",
   "pygments_lexer": "ipython3",
   "version": "3.10.16"
  }
 },
 "nbformat": 4,
 "nbformat_minor": 5
}
